{
 "cells": [
  {
   "cell_type": "code",
   "execution_count": 1,
   "id": "15bebced-8e4c-4151-a145-38bc8189a04d",
   "metadata": {},
   "outputs": [],
   "source": [
    "import nltk\n",
    "import pandas as pd\n",
    "from nltk.sentiment import SentimentIntensityAnalyzer\n",
    "sia = SentimentIntensityAnalyzer()"
   ]
  },
  {
   "cell_type": "code",
   "execution_count": 5,
   "id": "980b5731",
   "metadata": {},
   "outputs": [
    {
     "data": {
      "text/plain": [
       "[\"Do a little spring cleaning, I'm always too busy dreaming\",\n",
       " 'Well, maybe I should wake up instead',\n",
       " 'A lot of things I regret but I just say I forget',\n",
       " \"Why can't it just be easy?\",\n",
       " 'Why does everybody need me to stay?',\n",
       " 'Oh, I hate the feeling',\n",
       " \"When you're high but you're underneath the ceiling\",\n",
       " 'Got the cards in my hand, I hate dealing',\n",
       " 'Yeah',\n",
       " \"Get everything I need, then I'm gone\",\n",
       " \"But it ain't stealing\",\n",
       " 'Can I get a break?',\n",
       " 'I wish that I could just get out my goddamn way',\n",
       " 'What is there to say?',\n",
       " \"There ain't a better time than today\"]"
      ]
     },
     "execution_count": 5,
     "metadata": {},
     "output_type": "execute_result"
    }
   ],
   "source": [
    "# read the file into a list for analysis\n",
    "df = pd.read_excel('list.xlsx', sheet_name='Sheet1')\n",
    "sen_list = []\n",
    "for values in df.values:\n",
    "    sen_list.append(values[0])\n",
    "sen_list"
   ]
  },
  {
   "cell_type": "code",
   "execution_count": 6,
   "id": "37252d1f-2433-4635-8211-da5a74633846",
   "metadata": {},
   "outputs": [
    {
     "name": "stdout",
     "output_type": "stream",
     "text": [
      "[0.0, 0.2732, -0.5023, 0.4404, 0.0, -0.4939, 0.0, -0.128, 0.296, 0.0, 0.612, 0.0, -0.1027, 0.0, -0.3412]\n"
     ]
    }
   ],
   "source": [
    "# analyse each element of list and generate a compound value based on sentiment\n",
    "compound_values = []\n",
    "for sen in sen_list:\n",
    "    compound_values.append(sia.polarity_scores(sen)[\"compound\"])\n",
    " \n",
    "print(compound_values)   "
   ]
  },
  {
   "cell_type": "code",
   "execution_count": 14,
   "id": "b519d8cd",
   "metadata": {},
   "outputs": [],
   "source": [
    "# create a new csv with the string + compound value\n",
    "df_out = pd.DataFrame({\"sentence\": sen_list,\n",
    "                      \"compound_values\": compound_values})\n",
    "df_out.to_csv('out.csv', index=False)  "
   ]
  },
  {
   "cell_type": "code",
   "execution_count": 15,
   "id": "82a2690d",
   "metadata": {},
   "outputs": [],
   "source": [
    "# create a line graph to visualize the ups and downs"
   ]
  },
  {
   "cell_type": "code",
   "execution_count": 16,
   "id": "2ac8f40d",
   "metadata": {},
   "outputs": [],
   "source": [
    "# create a bar graph to show the count of positives vs negatives"
   ]
  },
  {
   "cell_type": "code",
   "execution_count": 17,
   "id": "8a0225d8",
   "metadata": {},
   "outputs": [],
   "source": [
    "# write a pdf report, then delete this block"
   ]
  }
 ],
 "metadata": {
  "kernelspec": {
   "display_name": "Python 3 (ipykernel)",
   "language": "python",
   "name": "python3"
  },
  "language_info": {
   "codemirror_mode": {
    "name": "ipython",
    "version": 3
   },
   "file_extension": ".py",
   "mimetype": "text/x-python",
   "name": "python",
   "nbconvert_exporter": "python",
   "pygments_lexer": "ipython3",
   "version": "3.12.1"
  }
 },
 "nbformat": 4,
 "nbformat_minor": 5
}
