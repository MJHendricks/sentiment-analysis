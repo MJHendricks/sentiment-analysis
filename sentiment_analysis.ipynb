{
 "cells": [
  {
   "cell_type": "code",
   "execution_count": 42,
   "id": "15bebced-8e4c-4151-a145-38bc8189a04d",
   "metadata": {},
   "outputs": [],
   "source": [
    "import nltk\n",
    "import pandas as pd\n",
    "from nltk.sentiment import SentimentIntensityAnalyzer\n",
    "sia = SentimentIntensityAnalyzer()"
   ]
  },
  {
   "cell_type": "code",
   "execution_count": 59,
   "id": "980b5731",
   "metadata": {},
   "outputs": [],
   "source": [
    "# read the file into a list for analysis\n",
    "df = pd.read_excel('list.xlsx', sheet_name='Sheet1')\n",
    "sen_list = []\n",
    "for values in df.values:\n",
    "    sen_list.append(values[0])"
   ]
  },
  {
   "cell_type": "code",
   "execution_count": 60,
   "id": "37252d1f-2433-4635-8211-da5a74633846",
   "metadata": {},
   "outputs": [
    {
     "name": "stdout",
     "output_type": "stream",
     "text": [
      "[0.0, 0.2732, -0.5023, 0.4404, 0.0, -0.4939, 0.0, -0.128, 0.296, 0.0, 0.612, 0.0, -0.1027, 0.0, -0.3412]\n"
     ]
    }
   ],
   "source": [
    "# analyse each element of list and generate a compound value based on sentiment\n",
    "compound_values = []\n",
    "for sen in sen_list:\n",
    "    compound_values.append(sia.polarity_scores(sen)[\"compound\"])\n",
    " \n",
    "print(compound_values)   "
   ]
  },
  {
   "cell_type": "code",
   "execution_count": null,
   "id": "b519d8cd",
   "metadata": {},
   "outputs": [],
   "source": [
    "# create a new csv with the string + compound value"
   ]
  },
  {
   "cell_type": "code",
   "execution_count": null,
   "id": "82a2690d",
   "metadata": {},
   "outputs": [],
   "source": [
    "# create a line graph to visualize the ups and downs"
   ]
  },
  {
   "cell_type": "code",
   "execution_count": null,
   "id": "2ac8f40d",
   "metadata": {},
   "outputs": [],
   "source": [
    "# create a bar graph to show the count of positives vs negatives"
   ]
  },
  {
   "cell_type": "code",
   "execution_count": null,
   "id": "8a0225d8",
   "metadata": {},
   "outputs": [],
   "source": [
    "# write a pdf report, then delete this block"
   ]
  }
 ],
 "metadata": {
  "kernelspec": {
   "display_name": "Python 3 (ipykernel)",
   "language": "python",
   "name": "python3"
  },
  "language_info": {
   "codemirror_mode": {
    "name": "ipython",
    "version": 3
   },
   "file_extension": ".py",
   "mimetype": "text/x-python",
   "name": "python",
   "nbconvert_exporter": "python",
   "pygments_lexer": "ipython3",
   "version": "3.12.1"
  }
 },
 "nbformat": 4,
 "nbformat_minor": 5
}
